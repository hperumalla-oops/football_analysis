{
 "cells": [
  {
   "cell_type": "code",
   "execution_count": 1,
   "id": "d2c29913",
   "metadata": {},
   "outputs": [
    {
     "name": "stdout",
     "output_type": "stream",
     "text": [
      "Collecting ultralytics\n",
      "  Downloading ultralytics-8.3.221-py3-none-any.whl.metadata (37 kB)\n",
      "Requirement already satisfied: numpy>=1.23.0 in c:\\users\\hperu\\anaconda3\\lib\\site-packages (from ultralytics) (1.26.4)\n",
      "Requirement already satisfied: matplotlib>=3.3.0 in c:\\users\\hperu\\anaconda3\\lib\\site-packages (from ultralytics) (3.9.2)\n",
      "Collecting opencv-python>=4.6.0 (from ultralytics)\n",
      "  Downloading opencv_python-4.12.0.88-cp37-abi3-win_amd64.whl.metadata (19 kB)\n",
      "Requirement already satisfied: pillow>=7.1.2 in c:\\users\\hperu\\anaconda3\\lib\\site-packages (from ultralytics) (10.4.0)\n",
      "Requirement already satisfied: pyyaml>=5.3.1 in c:\\users\\hperu\\anaconda3\\lib\\site-packages (from ultralytics) (6.0.1)\n",
      "Requirement already satisfied: requests>=2.23.0 in c:\\users\\hperu\\anaconda3\\lib\\site-packages (from ultralytics) (2.32.3)\n",
      "Requirement already satisfied: scipy>=1.4.1 in c:\\users\\hperu\\anaconda3\\lib\\site-packages (from ultralytics) (1.13.1)\n",
      "Requirement already satisfied: torch>=1.8.0 in c:\\users\\hperu\\anaconda3\\lib\\site-packages (from ultralytics) (2.5.1+cu121)\n",
      "Requirement already satisfied: torchvision>=0.9.0 in c:\\users\\hperu\\anaconda3\\lib\\site-packages (from ultralytics) (0.20.1+cu121)\n",
      "Requirement already satisfied: psutil in c:\\users\\hperu\\anaconda3\\lib\\site-packages (from ultralytics) (5.9.0)\n",
      "Collecting polars (from ultralytics)\n",
      "  Downloading polars-1.34.0-py3-none-any.whl.metadata (10 kB)\n",
      "Collecting ultralytics-thop>=2.0.0 (from ultralytics)\n",
      "  Downloading ultralytics_thop-2.0.17-py3-none-any.whl.metadata (14 kB)\n",
      "Requirement already satisfied: contourpy>=1.0.1 in c:\\users\\hperu\\anaconda3\\lib\\site-packages (from matplotlib>=3.3.0->ultralytics) (1.2.0)\n",
      "Requirement already satisfied: cycler>=0.10 in c:\\users\\hperu\\anaconda3\\lib\\site-packages (from matplotlib>=3.3.0->ultralytics) (0.11.0)\n",
      "Requirement already satisfied: fonttools>=4.22.0 in c:\\users\\hperu\\anaconda3\\lib\\site-packages (from matplotlib>=3.3.0->ultralytics) (4.51.0)\n",
      "Requirement already satisfied: kiwisolver>=1.3.1 in c:\\users\\hperu\\anaconda3\\lib\\site-packages (from matplotlib>=3.3.0->ultralytics) (1.4.4)\n",
      "Requirement already satisfied: packaging>=20.0 in c:\\users\\hperu\\anaconda3\\lib\\site-packages (from matplotlib>=3.3.0->ultralytics) (24.1)\n",
      "Requirement already satisfied: pyparsing>=2.3.1 in c:\\users\\hperu\\anaconda3\\lib\\site-packages (from matplotlib>=3.3.0->ultralytics) (3.1.2)\n",
      "Requirement already satisfied: python-dateutil>=2.7 in c:\\users\\hperu\\anaconda3\\lib\\site-packages (from matplotlib>=3.3.0->ultralytics) (2.9.0.post0)\n",
      "Collecting numpy>=1.23.0 (from ultralytics)\n",
      "  Downloading numpy-2.2.6-cp312-cp312-win_amd64.whl.metadata (60 kB)\n",
      "Requirement already satisfied: charset-normalizer<4,>=2 in c:\\users\\hperu\\anaconda3\\lib\\site-packages (from requests>=2.23.0->ultralytics) (3.3.2)\n",
      "Requirement already satisfied: idna<4,>=2.5 in c:\\users\\hperu\\anaconda3\\lib\\site-packages (from requests>=2.23.0->ultralytics) (3.7)\n",
      "Requirement already satisfied: urllib3<3,>=1.21.1 in c:\\users\\hperu\\anaconda3\\lib\\site-packages (from requests>=2.23.0->ultralytics) (2.2.3)\n",
      "Requirement already satisfied: certifi>=2017.4.17 in c:\\users\\hperu\\anaconda3\\lib\\site-packages (from requests>=2.23.0->ultralytics) (2025.1.31)\n",
      "Requirement already satisfied: filelock in c:\\users\\hperu\\anaconda3\\lib\\site-packages (from torch>=1.8.0->ultralytics) (3.13.1)\n",
      "Requirement already satisfied: typing-extensions>=4.8.0 in c:\\users\\hperu\\anaconda3\\lib\\site-packages (from torch>=1.8.0->ultralytics) (4.11.0)\n",
      "Requirement already satisfied: networkx in c:\\users\\hperu\\anaconda3\\lib\\site-packages (from torch>=1.8.0->ultralytics) (3.3)\n",
      "Requirement already satisfied: jinja2 in c:\\users\\hperu\\anaconda3\\lib\\site-packages (from torch>=1.8.0->ultralytics) (3.1.4)\n",
      "Requirement already satisfied: fsspec in c:\\users\\hperu\\anaconda3\\lib\\site-packages (from torch>=1.8.0->ultralytics) (2024.6.1)\n",
      "Requirement already satisfied: setuptools in c:\\users\\hperu\\anaconda3\\lib\\site-packages (from torch>=1.8.0->ultralytics) (75.1.0)\n",
      "Requirement already satisfied: sympy==1.13.1 in c:\\users\\hperu\\anaconda3\\lib\\site-packages (from torch>=1.8.0->ultralytics) (1.13.1)\n",
      "Requirement already satisfied: mpmath<1.4,>=1.1.0 in c:\\users\\hperu\\anaconda3\\lib\\site-packages (from sympy==1.13.1->torch>=1.8.0->ultralytics) (1.3.0)\n",
      "Collecting polars-runtime-32==1.34.0 (from polars->ultralytics)\n",
      "  Downloading polars_runtime_32-1.34.0-cp39-abi3-win_amd64.whl.metadata (1.5 kB)\n",
      "INFO: pip is looking at multiple versions of contourpy to determine which version is compatible with other requirements. This could take a while.\n",
      "Collecting contourpy>=1.0.1 (from matplotlib>=3.3.0->ultralytics)\n",
      "  Downloading contourpy-1.3.3-cp312-cp312-win_amd64.whl.metadata (5.5 kB)\n",
      "Requirement already satisfied: six>=1.5 in c:\\users\\hperu\\anaconda3\\lib\\site-packages (from python-dateutil>=2.7->matplotlib>=3.3.0->ultralytics) (1.16.0)\n",
      "Requirement already satisfied: MarkupSafe>=2.0 in c:\\users\\hperu\\anaconda3\\lib\\site-packages (from jinja2->torch>=1.8.0->ultralytics) (2.1.3)\n",
      "Downloading ultralytics-8.3.221-py3-none-any.whl (1.1 MB)\n",
      "   ---------------------------------------- 0.0/1.1 MB ? eta -:--:--\n",
      "   ---------------------------------------- 1.1/1.1 MB 10.5 MB/s eta 0:00:00\n",
      "Downloading opencv_python-4.12.0.88-cp37-abi3-win_amd64.whl (39.0 MB)\n",
      "   ---------------------------------------- 0.0/39.0 MB ? eta -:--:--\n",
      "   -- ------------------------------------- 2.4/39.0 MB 13.4 MB/s eta 0:00:03\n",
      "   ---- ----------------------------------- 4.7/39.0 MB 12.4 MB/s eta 0:00:03\n",
      "   ------- -------------------------------- 7.1/39.0 MB 11.8 MB/s eta 0:00:03\n",
      "   --------- ------------------------------ 9.2/39.0 MB 11.6 MB/s eta 0:00:03\n",
      "   ----------- ---------------------------- 11.5/39.0 MB 11.3 MB/s eta 0:00:03\n",
      "   -------------- ------------------------- 13.9/39.0 MB 11.3 MB/s eta 0:00:03\n",
      "   ---------------- ----------------------- 16.3/39.0 MB 11.4 MB/s eta 0:00:03\n",
      "   ------------------- -------------------- 18.9/39.0 MB 11.3 MB/s eta 0:00:02\n",
      "   --------------------- ------------------ 21.2/39.0 MB 11.4 MB/s eta 0:00:02\n",
      "   ------------------------ --------------- 23.9/39.0 MB 11.4 MB/s eta 0:00:02\n",
      "   --------------------------- ------------ 26.5/39.0 MB 11.4 MB/s eta 0:00:02\n",
      "   ----------------------------- ---------- 28.8/39.0 MB 11.4 MB/s eta 0:00:01\n",
      "   ------------------------------- -------- 31.2/39.0 MB 11.4 MB/s eta 0:00:01\n",
      "   ---------------------------------- ----- 33.8/39.0 MB 11.4 MB/s eta 0:00:01\n",
      "   ------------------------------------- -- 36.2/39.0 MB 11.5 MB/s eta 0:00:01\n",
      "   ---------------------------------------  38.5/39.0 MB 11.4 MB/s eta 0:00:01\n",
      "   ---------------------------------------- 39.0/39.0 MB 11.2 MB/s eta 0:00:00\n",
      "Downloading numpy-2.2.6-cp312-cp312-win_amd64.whl (12.6 MB)\n",
      "   ---------------------------------------- 0.0/12.6 MB ? eta -:--:--\n",
      "   ------- -------------------------------- 2.4/12.6 MB 11.2 MB/s eta 0:00:01\n",
      "   -------------- ------------------------- 4.7/12.6 MB 11.4 MB/s eta 0:00:01\n",
      "   ----------------------- ---------------- 7.3/12.6 MB 11.6 MB/s eta 0:00:01\n",
      "   ------------------------------ --------- 9.7/12.6 MB 11.4 MB/s eta 0:00:01\n",
      "   ---------------------------------------  12.3/12.6 MB 11.5 MB/s eta 0:00:01\n",
      "   ---------------------------------------- 12.6/12.6 MB 11.1 MB/s eta 0:00:00\n",
      "Downloading ultralytics_thop-2.0.17-py3-none-any.whl (28 kB)\n",
      "Downloading polars-1.34.0-py3-none-any.whl (772 kB)\n",
      "   ---------------------------------------- 0.0/772.7 kB ? eta -:--:--\n",
      "   ---------------------------------------- 772.7/772.7 kB 8.1 MB/s eta 0:00:00\n",
      "Downloading polars_runtime_32-1.34.0-cp39-abi3-win_amd64.whl (40.1 MB)\n",
      "   ---------------------------------------- 0.0/40.1 MB ? eta -:--:--\n",
      "   -- ------------------------------------- 2.1/40.1 MB 11.8 MB/s eta 0:00:04\n",
      "   ---- ----------------------------------- 4.7/40.1 MB 11.4 MB/s eta 0:00:04\n",
      "   ------- -------------------------------- 7.1/40.1 MB 11.5 MB/s eta 0:00:03\n",
      "   --------- ------------------------------ 9.7/40.1 MB 11.4 MB/s eta 0:00:03\n",
      "   ----------- ---------------------------- 11.8/40.1 MB 11.4 MB/s eta 0:00:03\n",
      "   -------------- ------------------------- 14.4/40.1 MB 11.3 MB/s eta 0:00:03\n",
      "   ---------------- ----------------------- 16.8/40.1 MB 11.4 MB/s eta 0:00:03\n",
      "   ------------------- -------------------- 19.4/40.1 MB 11.4 MB/s eta 0:00:02\n",
      "   --------------------- ------------------ 21.8/40.1 MB 11.5 MB/s eta 0:00:02\n",
      "   ------------------------ --------------- 24.4/40.1 MB 11.4 MB/s eta 0:00:02\n",
      "   -------------------------- ------------- 26.7/40.1 MB 11.5 MB/s eta 0:00:02\n",
      "   ----------------------------- ---------- 29.4/40.1 MB 11.4 MB/s eta 0:00:01\n",
      "   ------------------------------- -------- 31.7/40.1 MB 11.4 MB/s eta 0:00:01\n",
      "   --------------------------------- ------ 34.1/40.1 MB 11.5 MB/s eta 0:00:01\n",
      "   ------------------------------------ --- 36.7/40.1 MB 11.5 MB/s eta 0:00:01\n",
      "   -------------------------------------- - 39.1/40.1 MB 11.5 MB/s eta 0:00:01\n",
      "   ---------------------------------------- 40.1/40.1 MB 11.2 MB/s eta 0:00:00\n",
      "Downloading contourpy-1.3.3-cp312-cp312-win_amd64.whl (226 kB)\n",
      "Installing collected packages: polars-runtime-32, numpy, polars, opencv-python, contourpy, ultralytics-thop, ultralytics\n",
      "  Attempting uninstall: numpy\n",
      "    Found existing installation: numpy 1.26.4\n",
      "    Uninstalling numpy-1.26.4:\n",
      "      Successfully uninstalled numpy-1.26.4\n",
      "  Attempting uninstall: contourpy\n",
      "    Found existing installation: contourpy 1.2.0\n",
      "    Uninstalling contourpy-1.2.0:\n",
      "      Successfully uninstalled contourpy-1.2.0\n",
      "Successfully installed contourpy-1.3.3 numpy-2.2.6 opencv-python-4.12.0.88 polars-1.34.0 polars-runtime-32-1.34.0 ultralytics-8.3.221 ultralytics-thop-2.0.17\n"
     ]
    },
    {
     "name": "stderr",
     "output_type": "stream",
     "text": [
      "WARNING: Ignoring invalid distribution ~itz (C:\\Users\\hperu\\anaconda3\\Lib\\site-packages)\n",
      "WARNING: Ignoring invalid distribution ~itz (C:\\Users\\hperu\\anaconda3\\Lib\\site-packages)\n",
      "WARNING: Ignoring invalid distribution ~itz (C:\\Users\\hperu\\anaconda3\\Lib\\site-packages)\n",
      "ERROR: pip's dependency resolver does not currently take into account all the packages that are installed. This behaviour is the source of the following dependency conflicts.\n",
      "gensim 4.3.3 requires numpy<2.0,>=1.18.5, but you have numpy 2.2.6 which is incompatible.\n",
      "numba 0.60.0 requires numpy<2.1,>=1.22, but you have numpy 2.2.6 which is incompatible.\n"
     ]
    },
    {
     "name": "stdout",
     "output_type": "stream",
     "text": [
      "Collecting roboflow\n",
      "  Downloading roboflow-1.2.11-py3-none-any.whl.metadata (9.7 kB)\n",
      "Requirement already satisfied: certifi in c:\\users\\hperu\\anaconda3\\lib\\site-packages (from roboflow) (2025.1.31)\n",
      "Requirement already satisfied: idna==3.7 in c:\\users\\hperu\\anaconda3\\lib\\site-packages (from roboflow) (3.7)\n",
      "Requirement already satisfied: cycler in c:\\users\\hperu\\anaconda3\\lib\\site-packages (from roboflow) (0.11.0)\n",
      "Requirement already satisfied: kiwisolver>=1.3.1 in c:\\users\\hperu\\anaconda3\\lib\\site-packages (from roboflow) (1.4.4)\n",
      "Requirement already satisfied: matplotlib in c:\\users\\hperu\\anaconda3\\lib\\site-packages (from roboflow) (3.9.2)\n",
      "Requirement already satisfied: numpy>=1.18.5 in c:\\users\\hperu\\anaconda3\\lib\\site-packages (from roboflow) (2.2.6)\n",
      "Collecting opencv-python-headless==4.10.0.84 (from roboflow)\n",
      "  Downloading opencv_python_headless-4.10.0.84-cp37-abi3-win_amd64.whl.metadata (20 kB)\n",
      "Requirement already satisfied: Pillow>=7.1.2 in c:\\users\\hperu\\anaconda3\\lib\\site-packages (from roboflow) (10.4.0)\n",
      "Collecting pi-heif<2 (from roboflow)\n",
      "  Downloading pi_heif-1.1.1-cp312-cp312-win_amd64.whl.metadata (6.7 kB)\n",
      "Collecting pillow-avif-plugin<2 (from roboflow)\n",
      "  Downloading pillow_avif_plugin-1.5.2-cp312-cp312-win_amd64.whl.metadata (2.2 kB)\n",
      "Requirement already satisfied: python-dateutil in c:\\users\\hperu\\anaconda3\\lib\\site-packages (from roboflow) (2.9.0.post0)\n",
      "Requirement already satisfied: python-dotenv in c:\\users\\hperu\\anaconda3\\lib\\site-packages (from roboflow) (1.1.0)\n",
      "Requirement already satisfied: requests in c:\\users\\hperu\\anaconda3\\lib\\site-packages (from roboflow) (2.32.3)\n",
      "Requirement already satisfied: six in c:\\users\\hperu\\anaconda3\\lib\\site-packages (from roboflow) (1.16.0)\n",
      "Requirement already satisfied: urllib3>=1.26.6 in c:\\users\\hperu\\anaconda3\\lib\\site-packages (from roboflow) (2.2.3)\n",
      "Requirement already satisfied: tqdm>=4.41.0 in c:\\users\\hperu\\anaconda3\\lib\\site-packages (from roboflow) (4.66.5)\n",
      "Requirement already satisfied: PyYAML>=5.3.1 in c:\\users\\hperu\\anaconda3\\lib\\site-packages (from roboflow) (6.0.1)\n",
      "Requirement already satisfied: requests-toolbelt in c:\\users\\hperu\\anaconda3\\lib\\site-packages (from roboflow) (1.0.0)\n",
      "Requirement already satisfied: filetype in c:\\users\\hperu\\anaconda3\\lib\\site-packages (from roboflow) (1.2.0)\n",
      "Collecting Pillow>=7.1.2 (from roboflow)\n",
      "  Downloading pillow-12.0.0-cp312-cp312-win_amd64.whl.metadata (9.0 kB)\n",
      "Requirement already satisfied: colorama in c:\\users\\hperu\\anaconda3\\lib\\site-packages (from tqdm>=4.41.0->roboflow) (0.4.6)\n",
      "Requirement already satisfied: contourpy>=1.0.1 in c:\\users\\hperu\\anaconda3\\lib\\site-packages (from matplotlib->roboflow) (1.3.3)\n",
      "Requirement already satisfied: fonttools>=4.22.0 in c:\\users\\hperu\\anaconda3\\lib\\site-packages (from matplotlib->roboflow) (4.51.0)\n",
      "Requirement already satisfied: packaging>=20.0 in c:\\users\\hperu\\anaconda3\\lib\\site-packages (from matplotlib->roboflow) (24.1)\n",
      "Requirement already satisfied: pyparsing>=2.3.1 in c:\\users\\hperu\\anaconda3\\lib\\site-packages (from matplotlib->roboflow) (3.1.2)\n",
      "Requirement already satisfied: charset-normalizer<4,>=2 in c:\\users\\hperu\\anaconda3\\lib\\site-packages (from requests->roboflow) (3.3.2)\n",
      "Downloading roboflow-1.2.11-py3-none-any.whl (89 kB)\n",
      "Downloading opencv_python_headless-4.10.0.84-cp37-abi3-win_amd64.whl (38.8 MB)\n",
      "   ---------------------------------------- 0.0/38.8 MB ? eta -:--:--\n",
      "   -- ------------------------------------- 2.1/38.8 MB 11.8 MB/s eta 0:00:04\n",
      "   ---- ----------------------------------- 4.7/38.8 MB 11.4 MB/s eta 0:00:03\n",
      "   ------- -------------------------------- 7.1/38.8 MB 11.5 MB/s eta 0:00:03\n",
      "   --------- ------------------------------ 9.4/38.8 MB 11.5 MB/s eta 0:00:03\n",
      "   ------------ --------------------------- 12.1/38.8 MB 11.3 MB/s eta 0:00:03\n",
      "   -------------- ------------------------- 14.4/38.8 MB 11.3 MB/s eta 0:00:03\n",
      "   ----------------- ---------------------- 16.8/38.8 MB 11.4 MB/s eta 0:00:02\n",
      "   -------------------- ------------------- 19.4/38.8 MB 11.3 MB/s eta 0:00:02\n",
      "   ---------------------- ----------------- 21.8/38.8 MB 11.4 MB/s eta 0:00:02\n",
      "   ------------------------ --------------- 24.1/38.8 MB 11.4 MB/s eta 0:00:02\n",
      "   --------------------------- ------------ 26.7/38.8 MB 11.4 MB/s eta 0:00:02\n",
      "   ------------------------------ --------- 29.1/38.8 MB 11.4 MB/s eta 0:00:01\n",
      "   -------------------------------- ------- 31.7/38.8 MB 11.4 MB/s eta 0:00:01\n",
      "   ----------------------------------- ---- 34.1/38.8 MB 11.4 MB/s eta 0:00:01\n",
      "   ------------------------------------- -- 36.7/38.8 MB 11.4 MB/s eta 0:00:01\n",
      "   ---------------------------------------  38.5/38.8 MB 11.4 MB/s eta 0:00:01\n",
      "   ---------------------------------------- 38.8/38.8 MB 11.1 MB/s eta 0:00:00\n",
      "Downloading pi_heif-1.1.1-cp312-cp312-win_amd64.whl (1.9 MB)\n",
      "   ---------------------------------------- 0.0/1.9 MB ? eta -:--:--\n",
      "   ---------------------------------------- 1.9/1.9 MB 9.5 MB/s eta 0:00:00\n",
      "Downloading pillow-12.0.0-cp312-cp312-win_amd64.whl (7.0 MB)\n",
      "   ---------------------------------------- 0.0/7.0 MB ? eta -:--:--\n",
      "   ------------- -------------------------- 2.4/7.0 MB 11.2 MB/s eta 0:00:01\n",
      "   -------------------------- ------------- 4.7/7.0 MB 11.4 MB/s eta 0:00:01\n",
      "   ---------------------------------------- 7.0/7.0 MB 11.1 MB/s eta 0:00:00\n",
      "Downloading pillow_avif_plugin-1.5.2-cp312-cp312-win_amd64.whl (9.9 MB)\n",
      "   ---------------------------------------- 0.0/9.9 MB ? eta -:--:--\n",
      "   --------- ------------------------------ 2.4/9.9 MB 11.2 MB/s eta 0:00:01\n",
      "   ------------------- -------------------- 4.7/9.9 MB 11.4 MB/s eta 0:00:01\n",
      "   ---------------------------- ----------- 7.1/9.9 MB 11.5 MB/s eta 0:00:01\n",
      "   ---------------------------------------  9.7/9.9 MB 11.4 MB/s eta 0:00:01\n",
      "   ---------------------------------------- 9.9/9.9 MB 11.2 MB/s eta 0:00:00\n",
      "Installing collected packages: pillow-avif-plugin, Pillow, opencv-python-headless, pi-heif, roboflow\n",
      "  Attempting uninstall: Pillow\n",
      "    Found existing installation: pillow 10.4.0\n",
      "    Uninstalling pillow-10.4.0:\n",
      "      Successfully uninstalled pillow-10.4.0\n",
      "Successfully installed Pillow-12.0.0 opencv-python-headless-4.10.0.84 pi-heif-1.1.1 pillow-avif-plugin-1.5.2 roboflow-1.2.11\n"
     ]
    },
    {
     "name": "stderr",
     "output_type": "stream",
     "text": [
      "WARNING: Ignoring invalid distribution ~itz (C:\\Users\\hperu\\anaconda3\\Lib\\site-packages)\n",
      "WARNING: Ignoring invalid distribution ~itz (C:\\Users\\hperu\\anaconda3\\Lib\\site-packages)\n",
      "WARNING: Ignoring invalid distribution ~itz (C:\\Users\\hperu\\anaconda3\\Lib\\site-packages)\n",
      "ERROR: pip's dependency resolver does not currently take into account all the packages that are installed. This behaviour is the source of the following dependency conflicts.\n",
      "streamlit 1.37.1 requires pillow<11,>=7.1.0, but you have pillow 12.0.0 which is incompatible.\n"
     ]
    }
   ],
   "source": [
    "!pip install ultralytics\n",
    "!pip install roboflow"
   ]
  },
  {
   "cell_type": "code",
   "execution_count": 2,
   "id": "6d473c56",
   "metadata": {},
   "outputs": [
    {
     "name": "stdout",
     "output_type": "stream",
     "text": [
      "loading Roboflow workspace...\n",
      "loading Roboflow project...\n"
     ]
    },
    {
     "name": "stderr",
     "output_type": "stream",
     "text": [
      "Downloading Dataset Version Zip in football-players-detection-1 to yolov8:: 100%|██████████| 148663/148663 [00:19<00:00, 7632.83it/s] "
     ]
    },
    {
     "name": "stdout",
     "output_type": "stream",
     "text": [
      "\n"
     ]
    },
    {
     "name": "stderr",
     "output_type": "stream",
     "text": [
      "\n",
      "Extracting Dataset Version Zip to football-players-detection-1 in yolov8:: 100%|██████████| 1338/1338 [00:01<00:00, 770.28it/s]\n"
     ]
    }
   ],
   "source": [
    "from roboflow import Roboflow\n",
    "rf = Roboflow(api_key=\"pVcVwRAHEiX6pBCrIcZX\")\n",
    "project = rf.workspace(\"roboflow-jvuqo\").project(\"football-players-detection-3zvbc\")\n",
    "version = project.version(1)\n",
    "dataset = version.download(\"yolov8\")\n",
    "                "
   ]
  },
  {
   "cell_type": "code",
   "execution_count": 3,
   "id": "6f00e46d",
   "metadata": {},
   "outputs": [
    {
     "data": {
      "text/plain": [
       "'c:\\\\Users\\\\hperu\\\\fbvision\\\\yolo_inference\\\\football-players-detection-1'"
      ]
     },
     "execution_count": 3,
     "metadata": {},
     "output_type": "execute_result"
    }
   ],
   "source": [
    "dataset.location"
   ]
  },
  {
   "cell_type": "code",
   "execution_count": 4,
   "id": "9e68fbe7",
   "metadata": {},
   "outputs": [
    {
     "data": {
      "text/plain": [
       "'football-players-detection-1/football-players-detection-1/valid'"
      ]
     },
     "execution_count": 4,
     "metadata": {},
     "output_type": "execute_result"
    }
   ],
   "source": [
    "import shutil\n",
    "\n",
    "shutil.move('football-players-detection-1/train',\n",
    "            'football-players-detection-1/football-players-detection-1/train'\n",
    "            )\n",
    "\n",
    "shutil.move('football-players-detection-1/test',\n",
    "            'football-players-detection-1/football-players-detection-1/test'\n",
    "            )\n",
    "\n",
    "shutil.move('football-players-detection-1/valid',\n",
    "            'football-players-detection-1/football-players-detection-1/valid'\n",
    "            )"
   ]
  },
  {
   "cell_type": "code",
   "execution_count": null,
   "id": "fbc7a3aa",
   "metadata": {},
   "outputs": [
    {
     "name": "stdout",
     "output_type": "stream",
     "text": [
      "Ultralytics 8.3.221  Python-3.12.7 torch-2.5.1+cu121 CUDA:0 (NVIDIA GeForce RTX 3050 6GB Laptop GPU, 6144MiB)\n",
      "\u001b[34m\u001b[1mengine\\trainer: \u001b[0magnostic_nms=False, amp=True, augment=False, auto_augment=randaugment, batch=16, bgr=0.0, box=7.5, cache=False, cfg=None, classes=None, close_mosaic=10, cls=0.5, compile=False, conf=None, copy_paste=0.0, copy_paste_mode=flip, cos_lr=False, cutmix=0.0, data=C:/Users/hperu/fbvision/yolo_inference/football-players-detection-1/data.yaml, degrees=0.0, deterministic=True, device=None, dfl=1.5, dnn=False, dropout=0.0, dynamic=False, embed=None, epochs=100, erasing=0.4, exist_ok=False, fliplr=0.5, flipud=0.0, format=torchscript, fraction=1.0, freeze=None, half=False, hsv_h=0.015, hsv_s=0.7, hsv_v=0.4, imgsz=640, int8=False, iou=0.7, keras=False, kobj=1.0, line_width=None, lr0=0.01, lrf=0.01, mask_ratio=4, max_det=300, mixup=0.0, mode=train, model=yolov8x.pt, momentum=0.937, mosaic=1.0, multi_scale=False, name=train9, nbs=64, nms=False, opset=None, optimize=False, optimizer=auto, overlap_mask=True, patience=100, perspective=0.0, plots=True, pose=12.0, pretrained=True, profile=False, project=None, rect=False, resume=False, retina_masks=False, save=True, save_conf=False, save_crop=False, save_dir=C:\\Users\\hperu\\runs\\detect\\train9, save_frames=False, save_json=False, save_period=-1, save_txt=False, scale=0.5, seed=0, shear=0.0, show=False, show_boxes=True, show_conf=True, show_labels=True, simplify=True, single_cls=False, source=None, split=val, stream_buffer=False, task=detect, time=None, tracker=botsort.yaml, translate=0.1, val=True, verbose=True, vid_stride=1, visualize=False, warmup_bias_lr=0.1, warmup_epochs=3.0, warmup_momentum=0.8, weight_decay=0.0005, workers=8, workspace=None\n"
     ]
    },
    {
     "name": "stderr",
     "output_type": "stream",
     "text": [
      "\n",
      "A module that was compiled using NumPy 1.x cannot be run in\n",
      "NumPy 2.2.6 as it may crash. To support both 1.x and 2.x\n",
      "versions of NumPy, modules must be compiled with NumPy 2.0.\n",
      "Some module may need to rebuild instead e.g. with 'pybind11>=2.12'.\n",
      "\n",
      "If you are a user of the module, the easiest solution will be to\n",
      "downgrade to 'numpy<2' or try to upgrade the affected module.\n",
      "We expect that some modules will need time to support NumPy 2.\n",
      "\n",
      "Traceback (most recent call last):  File \"<frozen runpy>\", line 198, in _run_module_as_main\n",
      "  File \"<frozen runpy>\", line 88, in _run_code\n",
      "  File \"C:\\Users\\hperu\\anaconda3\\Scripts\\yolo.exe\\__main__.py\", line 7, in <module>\n",
      "    sys.exit(entrypoint())\n",
      "  File \"C:\\Users\\hperu\\anaconda3\\Lib\\site-packages\\ultralytics\\cfg\\__init__.py\", line 992, in entrypoint\n",
      "    getattr(model, mode)(**overrides)  # default args from model\n",
      "  File \"C:\\Users\\hperu\\anaconda3\\Lib\\site-packages\\ultralytics\\engine\\model.py\", line 795, in train\n",
      "    self.trainer = (trainer or self._smart_load(\"trainer\"))(overrides=args, _callbacks=self.callbacks)\n",
      "  File \"C:\\Users\\hperu\\anaconda3\\Lib\\site-packages\\ultralytics\\models\\yolo\\detect\\train.py\", line 65, in __init__\n",
      "    super().__init__(cfg, overrides, _callbacks)\n",
      "  File \"C:\\Users\\hperu\\anaconda3\\Lib\\site-packages\\ultralytics\\engine\\trainer.py\", line 160, in __init__\n",
      "    self.data = self.get_dataset()\n",
      "  File \"C:\\Users\\hperu\\anaconda3\\Lib\\site-packages\\ultralytics\\engine\\trainer.py\", line 647, in get_dataset\n",
      "    data = check_det_dataset(self.args.data)\n",
      "  File \"C:\\Users\\hperu\\anaconda3\\Lib\\site-packages\\ultralytics\\data\\utils.py\", line 481, in check_det_dataset\n",
      "    check_font(\"Arial.ttf\" if is_ascii(data[\"names\"]) else \"Arial.Unicode.ttf\")  # download fonts\n",
      "  File \"C:\\Users\\hperu\\anaconda3\\Lib\\site-packages\\ultralytics\\utils\\__init__.py\", line 500, in decorated\n",
      "    return f(*args, **kwargs)\n",
      "  File \"C:\\Users\\hperu\\anaconda3\\Lib\\site-packages\\ultralytics\\utils\\checks.py\", line 326, in check_font\n",
      "    from matplotlib import font_manager  # scope for faster 'import ultralytics'\n",
      "  File \"C:\\Users\\hperu\\anaconda3\\Lib\\site-packages\\matplotlib\\__init__.py\", line 159, in <module>\n",
      "    from . import _api, _version, cbook, _docstring, rcsetup\n",
      "  File \"C:\\Users\\hperu\\anaconda3\\Lib\\site-packages\\matplotlib\\rcsetup.py\", line 28, in <module>\n",
      "    from matplotlib.colors import Colormap, is_color_like\n",
      "  File \"C:\\Users\\hperu\\anaconda3\\Lib\\site-packages\\matplotlib\\colors.py\", line 57, in <module>\n",
      "    from matplotlib import _api, _cm, cbook, scale\n",
      "  File \"C:\\Users\\hperu\\anaconda3\\Lib\\site-packages\\matplotlib\\scale.py\", line 22, in <module>\n",
      "    from matplotlib.ticker import (\n",
      "  File \"C:\\Users\\hperu\\anaconda3\\Lib\\site-packages\\matplotlib\\ticker.py\", line 144, in <module>\n",
      "    from matplotlib import transforms as mtransforms\n",
      "  File \"C:\\Users\\hperu\\anaconda3\\Lib\\site-packages\\matplotlib\\transforms.py\", line 49, in <module>\n",
      "    from matplotlib._path import (\n",
      "Traceback (most recent call last):\n",
      "  File \"C:\\Users\\hperu\\anaconda3\\Lib\\site-packages\\numpy\\core\\_multiarray_umath.py\", line 44, in __getattr__\n",
      "    raise ImportError(msg)\n",
      "ImportError: \n",
      "A module that was compiled using NumPy 1.x cannot be run in\n",
      "NumPy 2.2.6 as it may crash. To support both 1.x and 2.x\n",
      "versions of NumPy, modules must be compiled with NumPy 2.0.\n",
      "Some module may need to rebuild instead e.g. with 'pybind11>=2.12'.\n",
      "\n",
      "If you are a user of the module, the easiest solution will be to\n",
      "downgrade to 'numpy<2' or try to upgrade the affected module.\n",
      "We expect that some modules will need time to support NumPy 2.\n",
      "\n",
      "\n",
      "ImportError: numpy.core.multiarray failed to import\n",
      "\n",
      "The above exception was the direct cause of the following exception:\n",
      "\n",
      "Traceback (most recent call last):\n",
      "  File \"C:\\Users\\hperu\\anaconda3\\Lib\\site-packages\\ultralytics\\engine\\trainer.py\", line 647, in get_dataset\n",
      "    data = check_det_dataset(self.args.data)\n",
      "           ^^^^^^^^^^^^^^^^^^^^^^^^^^^^^^^^^\n",
      "  File \"C:\\Users\\hperu\\anaconda3\\Lib\\site-packages\\ultralytics\\data\\utils.py\", line 481, in check_det_dataset\n",
      "    check_font(\"Arial.ttf\" if is_ascii(data[\"names\"]) else \"Arial.Unicode.ttf\")  # download fonts\n",
      "    ^^^^^^^^^^^^^^^^^^^^^^^^^^^^^^^^^^^^^^^^^^^^^^^^^^^^^^^^^^^^^^^^^^^^^^^^^^^\n",
      "  File \"C:\\Users\\hperu\\anaconda3\\Lib\\site-packages\\ultralytics\\utils\\__init__.py\", line 500, in decorated\n",
      "    return f(*args, **kwargs)\n",
      "           ^^^^^^^^^^^^^^^^^^\n",
      "  File \"C:\\Users\\hperu\\anaconda3\\Lib\\site-packages\\ultralytics\\utils\\checks.py\", line 326, in check_font\n",
      "    from matplotlib import font_manager  # scope for faster 'import ultralytics'\n",
      "    ^^^^^^^^^^^^^^^^^^^^^^^^^^^^^^^^^^^\n",
      "  File \"C:\\Users\\hperu\\anaconda3\\Lib\\site-packages\\matplotlib\\__init__.py\", line 159, in <module>\n",
      "    from . import _api, _version, cbook, _docstring, rcsetup\n",
      "  File \"C:\\Users\\hperu\\anaconda3\\Lib\\site-packages\\matplotlib\\rcsetup.py\", line 28, in <module>\n",
      "    from matplotlib.colors import Colormap, is_color_like\n",
      "  File \"C:\\Users\\hperu\\anaconda3\\Lib\\site-packages\\matplotlib\\colors.py\", line 57, in <module>\n",
      "    from matplotlib import _api, _cm, cbook, scale\n",
      "  File \"C:\\Users\\hperu\\anaconda3\\Lib\\site-packages\\matplotlib\\scale.py\", line 22, in <module>\n",
      "    from matplotlib.ticker import (\n",
      "  File \"C:\\Users\\hperu\\anaconda3\\Lib\\site-packages\\matplotlib\\ticker.py\", line 144, in <module>\n",
      "    from matplotlib import transforms as mtransforms\n",
      "  File \"C:\\Users\\hperu\\anaconda3\\Lib\\site-packages\\matplotlib\\transforms.py\", line 49, in <module>\n",
      "    from matplotlib._path import (\n",
      "ImportError: initialization failed\n",
      "\n",
      "The above exception was the direct cause of the following exception:\n",
      "\n",
      "Traceback (most recent call last):\n",
      "  File \"<frozen runpy>\", line 198, in _run_module_as_main\n",
      "  File \"<frozen runpy>\", line 88, in _run_code\n",
      "  File \"C:\\Users\\hperu\\anaconda3\\Scripts\\yolo.exe\\__main__.py\", line 7, in <module>\n",
      "  File \"C:\\Users\\hperu\\anaconda3\\Lib\\site-packages\\ultralytics\\cfg\\__init__.py\", line 992, in entrypoint\n",
      "    getattr(model, mode)(**overrides)  # default args from model\n",
      "    ^^^^^^^^^^^^^^^^^^^^^^^^^^^^^^^^^\n",
      "  File \"C:\\Users\\hperu\\anaconda3\\Lib\\site-packages\\ultralytics\\engine\\model.py\", line 795, in train\n",
      "    self.trainer = (trainer or self._smart_load(\"trainer\"))(overrides=args, _callbacks=self.callbacks)\n",
      "                   ^^^^^^^^^^^^^^^^^^^^^^^^^^^^^^^^^^^^^^^^^^^^^^^^^^^^^^^^^^^^^^^^^^^^^^^^^^^^^^^^^^^\n",
      "  File \"C:\\Users\\hperu\\anaconda3\\Lib\\site-packages\\ultralytics\\models\\yolo\\detect\\train.py\", line 65, in __init__\n",
      "    super().__init__(cfg, overrides, _callbacks)\n",
      "  File \"C:\\Users\\hperu\\anaconda3\\Lib\\site-packages\\ultralytics\\engine\\trainer.py\", line 160, in __init__\n",
      "    self.data = self.get_dataset()\n",
      "                ^^^^^^^^^^^^^^^^^^\n",
      "  File \"C:\\Users\\hperu\\anaconda3\\Lib\\site-packages\\ultralytics\\engine\\trainer.py\", line 651, in get_dataset\n",
      "    raise RuntimeError(emojis(f\"Dataset '{clean_url(self.args.data)}' error ❌ {e}\")) from e\n",
      "RuntimeError: Dataset 'C://Users/hperu/fbvision/yolo_inference/football-players-detection-1/data.yaml' error  initialization failed\n"
     ]
    },
    {
     "ename": "",
     "evalue": "",
     "output_type": "error",
     "traceback": [
      "\u001b[1;31mThe Kernel crashed while executing code in the current cell or a previous cell. \n",
      "\u001b[1;31mPlease review the code in the cell(s) to identify a possible cause of the failure. \n",
      "\u001b[1;31mClick <a href='https://aka.ms/vscodeJupyterKernelCrash'>here</a> for more info. \n",
      "\u001b[1;31mView Jupyter <a href='command:jupyter.viewOutput'>log</a> for further details."
     ]
    }
   ],
   "source": [
    "!yolo task=detect mode=train model=yolov8x.pt data=\"C:/Users/hperu/fbvision/yolo_inference/football-players-detection-1/data.yaml\" epochs=100 imgsz=640\n"
   ]
  },
  {
   "cell_type": "code",
   "execution_count": null,
   "id": "685d3b19",
   "metadata": {},
   "outputs": [],
   "source": []
  }
 ],
 "metadata": {
  "kernelspec": {
   "display_name": "base",
   "language": "python",
   "name": "python3"
  },
  "language_info": {
   "codemirror_mode": {
    "name": "ipython",
    "version": 3
   },
   "file_extension": ".py",
   "mimetype": "text/x-python",
   "name": "python",
   "nbconvert_exporter": "python",
   "pygments_lexer": "ipython3",
   "version": "3.12.7"
  }
 },
 "nbformat": 4,
 "nbformat_minor": 5
}
